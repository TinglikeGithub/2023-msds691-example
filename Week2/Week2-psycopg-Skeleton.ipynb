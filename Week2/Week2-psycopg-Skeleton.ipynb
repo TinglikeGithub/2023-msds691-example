{
 "cells": [
  {
   "cell_type": "code",
   "execution_count": null,
   "metadata": {
    "ExecuteTime": {
     "end_time": "2020-10-17T20:01:12.207381Z",
     "start_time": "2020-10-17T20:01:12.190039Z"
    }
   },
   "outputs": [],
   "source": [
    "import psycopg\n",
    "from user_input import * "
   ]
  },
  {
   "cell_type": "markdown",
   "metadata": {},
   "source": [
    "## Connect to a database\n",
    "if you have a password, add password = \"password\""
   ]
  },
  {
   "cell_type": "code",
   "execution_count": 51,
   "metadata": {
    "ExecuteTime": {
     "end_time": "2020-10-17T20:09:44.290295Z",
     "start_time": "2020-10-17T20:09:44.240741Z"
    }
   },
   "outputs": [],
   "source": [
    "conn = psycopg.connect(f\"dbname={database} user={user} host={host}\")"
   ]
  },
  {
   "cell_type": "code",
   "execution_count": 52,
   "metadata": {},
   "outputs": [
    {
     "data": {
      "text/plain": [
       "<psycopg.Connection [IDLE] (host=127.0.0.1 user=postgres database=msds691) at 0x113fe7290>"
      ]
     },
     "execution_count": 52,
     "metadata": {},
     "output_type": "execute_result"
    }
   ],
   "source": [
    "conn"
   ]
  },
  {
   "cell_type": "markdown",
   "metadata": {
    "ExecuteTime": {
     "end_time": "2020-10-17T19:41:29.419780Z",
     "start_time": "2020-10-17T19:41:29.413016Z"
    }
   },
   "source": [
    "## Open a cursor to perform database operations"
   ]
  },
  {
   "cell_type": "code",
   "execution_count": 53,
   "metadata": {
    "ExecuteTime": {
     "end_time": "2020-10-17T20:30:34.834309Z",
     "start_time": "2020-10-17T20:30:34.831791Z"
    }
   },
   "outputs": [],
   "source": [
    "cur = conn.cursor()"
   ]
  },
  {
   "cell_type": "markdown",
   "metadata": {},
   "source": [
    "## Query the database and obtain data as Python objects"
   ]
  },
  {
   "cell_type": "code",
   "execution_count": 54,
   "metadata": {},
   "outputs": [
    {
     "data": {
      "text/plain": [
       "<psycopg.Cursor [TUPLES_OK] [INTRANS] (host=127.0.0.1 user=postgres database=msds691) at 0x115ffd010>"
      ]
     },
     "execution_count": 54,
     "metadata": {},
     "output_type": "execute_result"
    }
   ],
   "source": [
    "query = f\"\"\"\n",
    "        SELECT *\n",
    "        FROM epa_site_location\n",
    "        WHERE site_id = {site_id}\n",
    "        \"\"\"\n",
    "cur.execute(query)"
   ]
  },
  {
   "cell_type": "code",
   "execution_count": 55,
   "metadata": {
    "ExecuteTime": {
     "end_time": "2020-10-17T20:30:35.654296Z",
     "start_time": "2020-10-17T20:30:35.651931Z"
    }
   },
   "outputs": [],
   "source": [
    "data = cur.fetchall()"
   ]
  },
  {
   "cell_type": "code",
   "execution_count": 56,
   "metadata": {
    "ExecuteTime": {
     "end_time": "2020-10-17T20:09:45.263459Z",
     "start_time": "2020-10-17T20:09:45.260257Z"
    }
   },
   "outputs": [],
   "source": [
    "for row in data:\n",
    "    print(row[0])"
   ]
  },
  {
   "cell_type": "code",
   "execution_count": null,
   "metadata": {
    "ExecuteTime": {
     "end_time": "2020-10-17T20:09:46.432996Z",
     "start_time": "2020-10-17T20:09:46.429755Z"
    }
   },
   "outputs": [],
   "source": []
  },
  {
   "cell_type": "markdown",
   "metadata": {},
   "source": [
    "## If your queries include updates such as insert, delete, or update, you need to commit (no autocommit) or  to cancel,  rollback"
   ]
  },
  {
   "cell_type": "markdown",
   "metadata": {},
   "source": [
    "### Increment site_id by 1 for \"site_name\"."
   ]
  },
  {
   "cell_type": "code",
   "execution_count": 57,
   "metadata": {},
   "outputs": [
    {
     "data": {
      "text/plain": [
       "[(60190008, 'Fresno-Drummond', 36.705475, -119.74133, 'Fresno', 'California')]"
      ]
     },
     "execution_count": 57,
     "metadata": {},
     "output_type": "execute_result"
    }
   ],
   "source": [
    "cur.execute(f\"\"\"SELECT * FROM epa_site_location WHERE site_name = '{site_name}'\"\"\")\n",
    "data = cur.fetchall()\n",
    "data"
   ]
  },
  {
   "cell_type": "code",
   "execution_count": 61,
   "metadata": {
    "ExecuteTime": {
     "end_time": "2020-10-17T20:09:25.342184Z",
     "start_time": "2020-10-17T20:09:25.338703Z"
    }
   },
   "outputs": [],
   "source": [
    "cur.execute(\"SELECT site_id FROM epa_site_location ORDER BY site_id DESC\")\n",
    "data = cur.fetchall()\n",
    "#data"
   ]
  },
  {
   "cell_type": "code",
   "execution_count": 62,
   "metadata": {
    "ExecuteTime": {
     "end_time": "2020-10-17T20:09:26.268271Z",
     "start_time": "2020-10-17T20:09:26.264969Z"
    }
   },
   "outputs": [
    {
     "data": {
      "text/plain": [
       "[61132002,\n",
       " 61131004,\n",
       " 61113002,\n",
       " 61112003,\n",
       " 61072003,\n",
       " 61030008,\n",
       " 61010004,\n",
       " 60990007,\n",
       " 60990006,\n",
       " 60973003,\n",
       " 60970003,\n",
       " 60970002,\n",
       " 60890009,\n",
       " 60890008,\n",
       " 60890005,\n",
       " 60832012,\n",
       " 60832005,\n",
       " 60831026,\n",
       " 60831009,\n",
       " 60830012,\n",
       " 60799002,\n",
       " 60798003,\n",
       " 60794003,\n",
       " 60792008,\n",
       " 60792007,\n",
       " 60792005,\n",
       " 60790006,\n",
       " 60773006,\n",
       " 60772011,\n",
       " 60771003,\n",
       " 60731023,\n",
       " 60731015,\n",
       " 60730002,\n",
       " 60719005,\n",
       " 60714004,\n",
       " 60714002,\n",
       " 60712003,\n",
       " 60711235,\n",
       " 60711005,\n",
       " 60710307,\n",
       " 60710006,\n",
       " 60710002,\n",
       " 60690003,\n",
       " 60670285,\n",
       " 60670011,\n",
       " 60670007,\n",
       " 60670003,\n",
       " 60659002,\n",
       " 60658006,\n",
       " 60658002,\n",
       " 60656002,\n",
       " 60655002,\n",
       " 60652006,\n",
       " 60652003,\n",
       " 60652000,\n",
       " 60650501,\n",
       " 60650013,\n",
       " 60650004,\n",
       " 60610007,\n",
       " 60592023,\n",
       " 60590008,\n",
       " 60530009,\n",
       " 60510012,\n",
       " 60510006,\n",
       " 60510002,\n",
       " 60472511,\n",
       " 60450011,\n",
       " 60431002,\n",
       " 60392011,\n",
       " 60379034,\n",
       " 60376013,\n",
       " 60375006,\n",
       " 60374007,\n",
       " 60374005,\n",
       " 60371104,\n",
       " 60370017,\n",
       " 60370003,\n",
       " 60333012,\n",
       " 60333011,\n",
       " 60333003,\n",
       " 60311005,\n",
       " 60310501,\n",
       " 60310005,\n",
       " 60290233,\n",
       " 60290019,\n",
       " 60290018,\n",
       " 60290015,\n",
       " 60290012,\n",
       " 60290011,\n",
       " 60271029,\n",
       " 60271024,\n",
       " 60271019,\n",
       " 60271004,\n",
       " 60271002,\n",
       " 60270031,\n",
       " 60270030,\n",
       " 60270029,\n",
       " 60270027,\n",
       " 60270026,\n",
       " 60270024,\n",
       " 60270023,\n",
       " 60270005,\n",
       " 60270003,\n",
       " 60254005,\n",
       " 60254004,\n",
       " 60251004,\n",
       " 60250008,\n",
       " 60250006,\n",
       " 60231005,\n",
       " 60210004,\n",
       " 60195002,\n",
       " 60190501,\n",
       " 60190012,\n",
       " 60190008,\n",
       " 60170012,\n",
       " 60111003,\n",
       " 60090002,\n",
       " 60070009]"
      ]
     },
     "execution_count": 62,
     "metadata": {},
     "output_type": "execute_result"
    }
   ],
   "source": [
    "sid_list = [sid[0] for sid in data]\n",
    "sid_list"
   ]
  },
  {
   "cell_type": "code",
   "execution_count": 60,
   "metadata": {
    "ExecuteTime": {
     "end_time": "2020-10-17T20:09:04.459721Z",
     "start_time": "2020-10-17T20:09:04.457117Z"
    }
   },
   "outputs": [],
   "source": [
    "for sid in sid_list:\n",
    "    query = f\"\"\"\n",
    "            UPDATE epa_site_location\n",
    "            SET site_id = site_id + 1\n",
    "            WHERE site_id = {sid}\n",
    "            \"\"\"\n",
    "    cur.execute(query)\n",
    "conn.rollback()"
   ]
  },
  {
   "cell_type": "code",
   "execution_count": 40,
   "metadata": {},
   "outputs": [],
   "source": [
    "cur.close()\n",
    "conn.close()"
   ]
  },
  {
   "cell_type": "markdown",
   "metadata": {},
   "source": [
    "## Close communication with the database"
   ]
  },
  {
   "cell_type": "code",
   "execution_count": null,
   "metadata": {
    "ExecuteTime": {
     "end_time": "2020-10-17T20:09:41.061096Z",
     "start_time": "2020-10-17T20:09:41.058613Z"
    }
   },
   "outputs": [],
   "source": []
  },
  {
   "cell_type": "code",
   "execution_count": null,
   "metadata": {
    "ExecuteTime": {
     "end_time": "2020-10-17T20:09:41.726436Z",
     "start_time": "2020-10-17T20:09:41.723097Z"
    }
   },
   "outputs": [],
   "source": []
  },
  {
   "cell_type": "code",
   "execution_count": null,
   "metadata": {},
   "outputs": [],
   "source": []
  }
 ],
 "metadata": {
  "kernelspec": {
   "display_name": "Python 3",
   "language": "python",
   "name": "python3"
  },
  "language_info": {
   "codemirror_mode": {
    "name": "ipython",
    "version": 3
   },
   "file_extension": ".py",
   "mimetype": "text/x-python",
   "name": "python",
   "nbconvert_exporter": "python",
   "pygments_lexer": "ipython3",
   "version": "3.11.4"
  },
  "varInspector": {
   "cols": {
    "lenName": 16,
    "lenType": 16,
    "lenVar": 40
   },
   "kernels_config": {
    "python": {
     "delete_cmd_postfix": "",
     "delete_cmd_prefix": "del ",
     "library": "var_list.py",
     "varRefreshCmd": "print(var_dic_list())"
    },
    "r": {
     "delete_cmd_postfix": ") ",
     "delete_cmd_prefix": "rm(",
     "library": "var_list.r",
     "varRefreshCmd": "cat(var_dic_list()) "
    }
   },
   "types_to_exclude": [
    "module",
    "function",
    "builtin_function_or_method",
    "instance",
    "_Feature"
   ],
   "window_display": false
  }
 },
 "nbformat": 4,
 "nbformat_minor": 4
}
